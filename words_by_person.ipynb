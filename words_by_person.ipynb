{
  "nbformat": 4,
  "nbformat_minor": 0,
  "metadata": {
    "colab": {
      "name": "words-by-person.ipynb",
      "provenance": [],
      "collapsed_sections": [],
      "authorship_tag": "ABX9TyPjClmyXh72WRwLQoHpH+/w",
      "include_colab_link": true
    },
    "kernelspec": {
      "name": "python3",
      "display_name": "Python 3"
    },
    "language_info": {
      "name": "python"
    }
  },
  "cells": [
    {
      "cell_type": "markdown",
      "metadata": {
        "id": "view-in-github",
        "colab_type": "text"
      },
      "source": [
        "<a href=\"https://colab.research.google.com/github/jose-cano/words-by-person/blob/main/words_by_person.ipynb\" target=\"_parent\"><img src=\"https://colab.research.google.com/assets/colab-badge.svg\" alt=\"Open In Colab\"/></a>"
      ]
    },
    {
      "cell_type": "code",
      "metadata": {
        "id": "bfQcHL-vfAwD"
      },
      "source": [
        "import re"
      ],
      "execution_count": null,
      "outputs": []
    },
    {
      "cell_type": "code",
      "metadata": {
        "id": "w2EnvFXten2y"
      },
      "source": [
        "\n",
        "john = re.compile(r'(John:)(.*\\s*)(Jill:|Peter:)')\n",
        "jill = re.compile(r'(Jill:)(.*\\s*)(John:|Peter:)')\n",
        "peter = re.compile(r'(Peter:)(.*\\s*)(John:|Jill:)')\n",
        "\n",
        "with open(\"data.txt\", 'r') as f:\n",
        "  contents = f.read()\n",
        "  john_says = john.finditer(contents)\n",
        "  jill_says = jill.finditer(contents)\n",
        "  peter_says = peter.finditer(contents)\n",
        "\n",
        "  john_word_list = []\n",
        "  jill_word_list = []\n",
        "  peter_word_list = []\n",
        "\n",
        "  for word in john_says:\n",
        "    john_word_list.append(word.group(2))\n",
        "\n",
        "  for word in jill_says:\n",
        "    jill_word_list.append(word.group(2))\n",
        "\n",
        "  for word in peter_says:\n",
        "    peter_word_list.append(word.group(2))\n",
        "\n",
        "num_words_john = sum([len(sentence.split()) for sentence in john_word_list])\n",
        "print(num_words_john)\n",
        "\n",
        "num_words_jill = sum([len(sentence.split()) for sentence in jill_word_list])\n",
        "print(num_words_jill)\n",
        "\n",
        "num_words_peter =  sum([len(sentence.split()) for sentence in peter_word_list])\n",
        "print(num_words_peter)"
      ],
      "execution_count": null,
      "outputs": []
    }
  ]
}