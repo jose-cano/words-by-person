{
  "nbformat": 4,
  "nbformat_minor": 0,
  "metadata": {
    "colab": {
      "name": "words-by-person.ipynb",
      "provenance": [],
      "collapsed_sections": [],
      "authorship_tag": "ABX9TyPXketFuHsSkxQ/paQtnzB1",
      "include_colab_link": true
    },
    "kernelspec": {
      "name": "python3",
      "display_name": "Python 3"
    },
    "language_info": {
      "name": "python"
    }
  },
  "cells": [
    {
      "cell_type": "markdown",
      "metadata": {
        "id": "view-in-github",
        "colab_type": "text"
      },
      "source": [
        "<a href=\"https://colab.research.google.com/github/jose-cano/words-by-person/blob/main/words_by_person.ipynb\" target=\"_parent\"><img src=\"https://colab.research.google.com/assets/colab-badge.svg\" alt=\"Open In Colab\"/></a>"
      ]
    },
    {
      "cell_type": "code",
      "metadata": {
        "id": "bfQcHL-vfAwD"
      },
      "source": [
        "import re"
      ],
      "execution_count": null,
      "outputs": []
    },
    {
      "cell_type": "code",
      "metadata": {
        "id": "SEE8rD83DlFl"
      },
      "source": [
        "text = \"\"\"\n",
        "Justin: Hello, everybody, and welcome to My Brother, My Brother and Me,\n",
        "an advice show for the modern era. I‘m your oldest brother, Justin McElroy!\n",
        "Travis: I‘m your middlest brother, Travis McElroy!\n",
        "Griffin: I‘m your sweet baby brother, Griffin McElroy!\n",
        "Justin and Griffin: [scat melody]\n",
        "Griffin: That‘s right.\n",
        "Justin: There it is.\n",
        "Griffin: It‘s May, the end of May when we recorded this. Probably June by\n",
        "the time this one comes out, and everyone knows what that means, is that it\n",
        "is summertime, time for barbecue pool time, and of course the summer\n",
        "Olympics.\n",
        "Travis: Did you guys practice that little opening music bit? ‗Cause that was\n",
        "really good.\n",
        "Griffin: Yeah, Juice and I call each other on the phone every week, and we\n",
        "say, ―Okay, you ready? Three, two, one…‖ [scat melody]\n",
        "Justin: [scat melody]\n",
        "\"\"\""
      ],
      "execution_count": 66,
      "outputs": []
    },
    {
      "cell_type": "code",
      "metadata": {
        "colab": {
          "base_uri": "https://localhost:8080/"
        },
        "id": "LbMs0pHKU-ac",
        "outputId": "14e3f113-e6a4-45ff-9da3-e0f2518552a0"
      },
      "source": [
        "justin = re.compile(r\"(?s)(?<=Justin:).*?(?=Travis:|Griffin:)\")\n",
        "travis = re.compile(r\"(?s)(?<=Travis:).*?(?=Justin:|Griffin:)\")\n",
        "griffin = re.compile(r\"(?s)(?<=Griffin:).*?(?=Travis:|Justin:)\")\n",
        "\n",
        "with open('test.txt') as f:\n",
        "  contents = f.read()\n",
        "  justin_says = justin.finditer(contents)\n",
        "  travis_says = travis.finditer(contents)\n",
        "  griffin_says = griffin.finditer(contents)\n",
        "\n",
        "  justin_word_list = []\n",
        "  travis_word_list = []\n",
        "  griffin_word_list = []\n",
        "\n",
        "  for match in justin_says:\n",
        "    justin_word_list.append(match.group(0))\n",
        "\n",
        "  for match in travis_says:\n",
        "    travis_word_list.append(match.group(0))\n",
        "\n",
        "  for match in griffin_says:\n",
        "    griffin_word_list.append(match.group(0))\n",
        "\n",
        "num_words_justin = sum([len(sentence.split()) for sentence in justin_word_list])\n",
        "print(f'Justin: {num_words_justin}')\n",
        "num_words_travis = sum([len(sentence.split()) for sentence in travis_word_list])\n",
        "print(f'Travis: {num_words_travis}')\n",
        "num_words_griffin = sum([len(sentence.split()) for sentence in griffin_word_list])\n",
        "print(f'Griffin: {num_words_griffin}')"
      ],
      "execution_count": 105,
      "outputs": [
        {
          "output_type": "stream",
          "name": "stdout",
          "text": [
            "Justin: 27\n",
            "Travis: 20\n",
            "Griffin: 79\n"
          ]
        }
      ]
    }
  ]
}